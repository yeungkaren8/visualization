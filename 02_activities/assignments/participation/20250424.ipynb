{
 "cells": [
  {
   "cell_type": "markdown",
   "id": "dd915edb",
   "metadata": {},
   "source": [
    "**Data Visualization - Assignment 1 - April 24, 2025**"
   ]
  },
  {
   "cell_type": "markdown",
   "id": "4c444b1c",
   "metadata": {},
   "source": [
    "Data analysis framework:\n",
    "- **What** data is being shown?\n",
    "    - Attribute types influence how data will be visualized\n",
    "- **Why** is a particular visualization used?\n",
    "    - What is the goal/message of the viz?\n",
    "    - Users can analyze -> search -> query the data within the viz (high to low level usage of the viz)\n",
    "- **How** is the visualization designed?\n",
    "    - Marks (graphical elements like points), channels (control appearance of mark), encoding (mapping marks and channels)\n",
    "    - Channel effectiveness (most imp attribute to most effective channel) vs expressiveness (channel to data characteristic, eg. ordered vs categorical) \n",
    "    - Channel can be analyzed by accuracy, discriminability, separability, ability to provide visual popout, ability to provide perceptual groupings\n",
    "\n",
    "Some best practices:\n",
    "    - no 3D without cause\n",
    "    - cognition over memory (side by side comparison better than observed vs remembered)\n",
    "    - overview then zoom then detail\n",
    "\n",
    "Think about:\n",
    "    - Is the viz biased/emotional or objective/neutral?\n",
    "    - Is the data accurate and honest?\n",
    "\n",
    "Purposes of a viz:\n",
    "    - Persuasion\n",
    "    - Comparison\n",
    "    - Evaluation\n",
    "    - Exploration\n",
    "\n",
    "Want to decrease cognitive load\n",
    "    - Familiar vs rare chart type\n",
    "    - Accurate vs approx interpretation\n",
    "    - Concise vs detailed composition\n",
    "    - Explanatory vs exploratory composition"
   ]
  }
 ],
 "metadata": {
  "language_info": {
   "name": "python"
  }
 },
 "nbformat": 4,
 "nbformat_minor": 5
}
